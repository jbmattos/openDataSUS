{
 "cells": [
  {
   "cell_type": "code",
   "execution_count": 1,
   "id": "olympic-generic",
   "metadata": {},
   "outputs": [],
   "source": [
    "import pandas as pd\n",
    "from susurv_cls import SUSurv"
   ]
  },
  {
   "cell_type": "code",
   "execution_count": 2,
   "id": "outer-omega",
   "metadata": {},
   "outputs": [],
   "source": [
    "sus = SUSurv()"
   ]
  },
  {
   "cell_type": "code",
   "execution_count": 3,
   "id": "minimal-philosophy",
   "metadata": {},
   "outputs": [
    {
     "name": "stdout",
     "output_type": "stream",
     "text": [
      "\n",
      "=== DATA PROCESSING STATUS ===\n",
      ">> running data processing: False\n",
      "\n",
      ">> General Configs:\n",
      "proc datastamp: 2021-09-13 16:35:54\n",
      "proc code-path: C:/Users/jubma/COVID2021/susurv_cls.py\n",
      "proc saving concatenation: None\n",
      "proc saving original srag: None\n",
      "\n",
      ">> Processing Configs:\n"
     ]
    }
   ],
   "source": [
    "sus.proc_status()"
   ]
  },
  {
   "cell_type": "code",
   "execution_count": 4,
   "id": "simple-adventure",
   "metadata": {},
   "outputs": [
    {
     "ename": "ValueError",
     "evalue": "No data processing is open. Please, SUSurv.open_surv_processing(db_ref)",
     "output_type": "error",
     "traceback": [
      "\u001b[1;31m---------------------------------------------------------------------------\u001b[0m",
      "\u001b[1;31mValueError\u001b[0m                                Traceback (most recent call last)",
      "\u001b[1;32m<ipython-input-4-1bd1cb671b52>\u001b[0m in \u001b[0;36m<module>\u001b[1;34m\u001b[0m\n\u001b[1;32m----> 1\u001b[1;33m \u001b[0msus\u001b[0m\u001b[1;33m.\u001b[0m\u001b[0minproc_\u001b[0m\u001b[1;33m\u001b[0m\u001b[0m\n\u001b[0m",
      "\u001b[1;32m~\\COVID2021\\susurv_cls.py\u001b[0m in \u001b[0;36minproc_\u001b[1;34m(self)\u001b[0m\n\u001b[0;32m    597\u001b[0m     \u001b[1;33m@\u001b[0m\u001b[0mproperty\u001b[0m\u001b[1;33m\u001b[0m\u001b[0m\n\u001b[0;32m    598\u001b[0m     \u001b[1;32mdef\u001b[0m \u001b[0minproc_\u001b[0m\u001b[1;33m(\u001b[0m\u001b[0mself\u001b[0m\u001b[1;33m)\u001b[0m\u001b[1;33m:\u001b[0m\u001b[1;33m\u001b[0m\u001b[0m\n\u001b[1;32m--> 599\u001b[1;33m         \u001b[0mself\u001b[0m\u001b[1;33m.\u001b[0m\u001b[0m__verify_opening\u001b[0m\u001b[1;33m(\u001b[0m\u001b[1;33m)\u001b[0m\u001b[1;33m\u001b[0m\u001b[0m\n\u001b[0m\u001b[0;32m    600\u001b[0m         \u001b[1;32mreturn\u001b[0m \u001b[0mself\u001b[0m\u001b[1;33m.\u001b[0m\u001b[0m__db_ref_inproc\u001b[0m\u001b[1;33m\u001b[0m\u001b[0m\n\u001b[0;32m    601\u001b[0m \u001b[1;33m\u001b[0m\u001b[0m\n",
      "\u001b[1;32m~\\COVID2021\\susurv_cls.py\u001b[0m in \u001b[0;36m__verify_opening\u001b[1;34m(self)\u001b[0m\n\u001b[0;32m    101\u001b[0m     \u001b[1;32mdef\u001b[0m \u001b[0m__verify_opening\u001b[0m\u001b[1;33m(\u001b[0m\u001b[0mself\u001b[0m\u001b[1;33m)\u001b[0m\u001b[1;33m:\u001b[0m\u001b[1;33m\u001b[0m\u001b[0m\n\u001b[0;32m    102\u001b[0m         \u001b[1;32mif\u001b[0m \u001b[1;32mnot\u001b[0m \u001b[0mself\u001b[0m\u001b[1;33m.\u001b[0m\u001b[0m__open\u001b[0m\u001b[1;33m:\u001b[0m\u001b[1;33m\u001b[0m\u001b[0m\n\u001b[1;32m--> 103\u001b[1;33m             \u001b[1;32mraise\u001b[0m \u001b[0mValueError\u001b[0m\u001b[1;33m(\u001b[0m\u001b[0mSUSurv\u001b[0m\u001b[1;33m.\u001b[0m\u001b[0m__CLOSE_MSG\u001b[0m\u001b[1;33m)\u001b[0m\u001b[1;33m\u001b[0m\u001b[0m\n\u001b[0m\u001b[0;32m    104\u001b[0m \u001b[1;33m\u001b[0m\u001b[0m\n\u001b[0;32m    105\u001b[0m     \u001b[1;33m@\u001b[0m\u001b[0mproperty\u001b[0m\u001b[1;33m\u001b[0m\u001b[0m\n",
      "\u001b[1;31mValueError\u001b[0m: No data processing is open. Please, SUSurv.open_surv_processing(db_ref)"
     ]
    }
   ],
   "source": [
    "sus.inproc_"
   ]
  },
  {
   "cell_type": "markdown",
   "id": "duplicate-journalist",
   "metadata": {},
   "source": [
    "### SRAG20"
   ]
  },
  {
   "cell_type": "code",
   "execution_count": 5,
   "id": "valuable-circus",
   "metadata": {},
   "outputs": [
    {
     "name": "stdout",
     "output_type": "stream",
     "text": [
      ".. loading D:\\GitRepositories\\openDataSUS/data/srag20.csv\n",
      ".. case selection: covid_pos\n",
      ".. date-type formatting\n",
      ".. survival features generation\n",
      "srag20 new processing opened.\n"
     ]
    }
   ],
   "source": [
    "sus.open_surv_processing('srag20')"
   ]
  },
  {
   "cell_type": "code",
   "execution_count": 6,
   "id": "consistent-barcelona",
   "metadata": {},
   "outputs": [
    {
     "name": "stdout",
     "output_type": "stream",
     "text": [
      "open:  True\n",
      "inproc:  srag20\n"
     ]
    }
   ],
   "source": [
    "print('open: ', sus.open_)\n",
    "print('inproc: ', sus.inproc_)"
   ]
  },
  {
   "cell_type": "code",
   "execution_count": 7,
   "id": "fewer-patient",
   "metadata": {
    "scrolled": true
   },
   "outputs": [
    {
     "data": {
      "text/html": [
       "<div>\n",
       "<style scoped>\n",
       "    .dataframe tbody tr th:only-of-type {\n",
       "        vertical-align: middle;\n",
       "    }\n",
       "\n",
       "    .dataframe tbody tr th {\n",
       "        vertical-align: top;\n",
       "    }\n",
       "\n",
       "    .dataframe thead th {\n",
       "        text-align: right;\n",
       "    }\n",
       "</style>\n",
       "<table border=\"1\" class=\"dataframe\">\n",
       "  <thead>\n",
       "    <tr style=\"text-align: right;\">\n",
       "      <th></th>\n",
       "      <th>id_DB</th>\n",
       "      <th>DT_NOTIFIC</th>\n",
       "      <th>SEM_NOT</th>\n",
       "      <th>DT_SIN_PRI</th>\n",
       "      <th>SEM_PRI</th>\n",
       "      <th>SG_UF_NOT</th>\n",
       "      <th>ID_REGIONA</th>\n",
       "      <th>CO_REGIONA</th>\n",
       "      <th>ID_MUNICIP</th>\n",
       "      <th>CO_MUN_NOT</th>\n",
       "      <th>...</th>\n",
       "      <th>TP_SOR</th>\n",
       "      <th>OUT_SOR</th>\n",
       "      <th>DT_RES</th>\n",
       "      <th>RES_IGG</th>\n",
       "      <th>RES_IGM</th>\n",
       "      <th>RES_IGA</th>\n",
       "      <th>DT_SURV_BEGIN</th>\n",
       "      <th>DT_SURV_EVENT</th>\n",
       "      <th>survival_status</th>\n",
       "      <th>survival_time</th>\n",
       "    </tr>\n",
       "  </thead>\n",
       "  <tbody>\n",
       "    <tr>\n",
       "      <th>10</th>\n",
       "      <td>srag20</td>\n",
       "      <td>2020-03-23</td>\n",
       "      <td>13</td>\n",
       "      <td>2020-03-14</td>\n",
       "      <td>11</td>\n",
       "      <td>SP</td>\n",
       "      <td>GVE I CAPITAL</td>\n",
       "      <td>1331.0</td>\n",
       "      <td>SAO PAULO</td>\n",
       "      <td>355030</td>\n",
       "      <td>...</td>\n",
       "      <td>NaN</td>\n",
       "      <td>NaN</td>\n",
       "      <td>NaN</td>\n",
       "      <td>NaN</td>\n",
       "      <td>NaN</td>\n",
       "      <td>NaN</td>\n",
       "      <td>2020-03-14</td>\n",
       "      <td>2020-04-06</td>\n",
       "      <td>False</td>\n",
       "      <td>23</td>\n",
       "    </tr>\n",
       "    <tr>\n",
       "      <th>12</th>\n",
       "      <td>srag20</td>\n",
       "      <td>2020-03-20</td>\n",
       "      <td>12</td>\n",
       "      <td>2020-03-11</td>\n",
       "      <td>11</td>\n",
       "      <td>SP</td>\n",
       "      <td>GVE I CAPITAL</td>\n",
       "      <td>1331.0</td>\n",
       "      <td>SAO PAULO</td>\n",
       "      <td>355030</td>\n",
       "      <td>...</td>\n",
       "      <td>NaN</td>\n",
       "      <td>NaN</td>\n",
       "      <td>NaN</td>\n",
       "      <td>NaN</td>\n",
       "      <td>NaN</td>\n",
       "      <td>NaN</td>\n",
       "      <td>2020-03-11</td>\n",
       "      <td>2020-03-29</td>\n",
       "      <td>True</td>\n",
       "      <td>18</td>\n",
       "    </tr>\n",
       "    <tr>\n",
       "      <th>22</th>\n",
       "      <td>srag20</td>\n",
       "      <td>2020-03-21</td>\n",
       "      <td>12</td>\n",
       "      <td>2020-03-15</td>\n",
       "      <td>12</td>\n",
       "      <td>SP</td>\n",
       "      <td>GVE I CAPITAL</td>\n",
       "      <td>1331.0</td>\n",
       "      <td>SAO PAULO</td>\n",
       "      <td>355030</td>\n",
       "      <td>...</td>\n",
       "      <td>NaN</td>\n",
       "      <td>NaN</td>\n",
       "      <td>NaN</td>\n",
       "      <td>NaN</td>\n",
       "      <td>NaN</td>\n",
       "      <td>NaN</td>\n",
       "      <td>2020-03-15</td>\n",
       "      <td>2020-04-02</td>\n",
       "      <td>True</td>\n",
       "      <td>18</td>\n",
       "    </tr>\n",
       "    <tr>\n",
       "      <th>25</th>\n",
       "      <td>srag20</td>\n",
       "      <td>2020-03-24</td>\n",
       "      <td>13</td>\n",
       "      <td>2020-03-14</td>\n",
       "      <td>11</td>\n",
       "      <td>SP</td>\n",
       "      <td>GVE I CAPITAL</td>\n",
       "      <td>1331.0</td>\n",
       "      <td>SAO PAULO</td>\n",
       "      <td>355030</td>\n",
       "      <td>...</td>\n",
       "      <td>NaN</td>\n",
       "      <td>NaN</td>\n",
       "      <td>NaN</td>\n",
       "      <td>NaN</td>\n",
       "      <td>NaN</td>\n",
       "      <td>NaN</td>\n",
       "      <td>2020-03-14</td>\n",
       "      <td>2020-04-19</td>\n",
       "      <td>False</td>\n",
       "      <td>36</td>\n",
       "    </tr>\n",
       "    <tr>\n",
       "      <th>40</th>\n",
       "      <td>srag20</td>\n",
       "      <td>2020-03-20</td>\n",
       "      <td>12</td>\n",
       "      <td>2020-03-18</td>\n",
       "      <td>12</td>\n",
       "      <td>SP</td>\n",
       "      <td>GVE I CAPITAL</td>\n",
       "      <td>1331.0</td>\n",
       "      <td>SAO PAULO</td>\n",
       "      <td>355030</td>\n",
       "      <td>...</td>\n",
       "      <td>NaN</td>\n",
       "      <td>NaN</td>\n",
       "      <td>NaN</td>\n",
       "      <td>NaN</td>\n",
       "      <td>NaN</td>\n",
       "      <td>NaN</td>\n",
       "      <td>2020-03-18</td>\n",
       "      <td>2020-04-02</td>\n",
       "      <td>False</td>\n",
       "      <td>15</td>\n",
       "    </tr>\n",
       "    <tr>\n",
       "      <th>...</th>\n",
       "      <td>...</td>\n",
       "      <td>...</td>\n",
       "      <td>...</td>\n",
       "      <td>...</td>\n",
       "      <td>...</td>\n",
       "      <td>...</td>\n",
       "      <td>...</td>\n",
       "      <td>...</td>\n",
       "      <td>...</td>\n",
       "      <td>...</td>\n",
       "      <td>...</td>\n",
       "      <td>...</td>\n",
       "      <td>...</td>\n",
       "      <td>...</td>\n",
       "      <td>...</td>\n",
       "      <td>...</td>\n",
       "      <td>...</td>\n",
       "      <td>...</td>\n",
       "      <td>...</td>\n",
       "      <td>...</td>\n",
       "      <td>...</td>\n",
       "    </tr>\n",
       "    <tr>\n",
       "      <th>1197881</th>\n",
       "      <td>srag20</td>\n",
       "      <td>2021-01-03</td>\n",
       "      <td>1</td>\n",
       "      <td>2020-12-27</td>\n",
       "      <td>53</td>\n",
       "      <td>MG</td>\n",
       "      <td>GOVERNADOR VALADARES</td>\n",
       "      <td>1471.0</td>\n",
       "      <td>GOVERNADOR VALADARES</td>\n",
       "      <td>312770</td>\n",
       "      <td>...</td>\n",
       "      <td>NaN</td>\n",
       "      <td>NaN</td>\n",
       "      <td>NaN</td>\n",
       "      <td>NaN</td>\n",
       "      <td>NaN</td>\n",
       "      <td>NaN</td>\n",
       "      <td>2020-12-27</td>\n",
       "      <td>2021-01-28</td>\n",
       "      <td>False</td>\n",
       "      <td>32</td>\n",
       "    </tr>\n",
       "    <tr>\n",
       "      <th>1197882</th>\n",
       "      <td>srag20</td>\n",
       "      <td>2021-01-11</td>\n",
       "      <td>2</td>\n",
       "      <td>2021-01-02</td>\n",
       "      <td>53</td>\n",
       "      <td>AM</td>\n",
       "      <td>ENTORNO DE MANAUS E RIO NEGRO</td>\n",
       "      <td>5584.0</td>\n",
       "      <td>CAREIRO</td>\n",
       "      <td>130110</td>\n",
       "      <td>...</td>\n",
       "      <td>NaN</td>\n",
       "      <td>NaN</td>\n",
       "      <td>NaN</td>\n",
       "      <td>NaN</td>\n",
       "      <td>NaN</td>\n",
       "      <td>NaN</td>\n",
       "      <td>2021-01-02</td>\n",
       "      <td>2021-01-21</td>\n",
       "      <td>True</td>\n",
       "      <td>19</td>\n",
       "    </tr>\n",
       "    <tr>\n",
       "      <th>1197883</th>\n",
       "      <td>srag20</td>\n",
       "      <td>2021-02-25</td>\n",
       "      <td>8</td>\n",
       "      <td>2020-11-20</td>\n",
       "      <td>47</td>\n",
       "      <td>BA</td>\n",
       "      <td>NUCLEO REGIONAL DE SAUDE LESTE</td>\n",
       "      <td>1380.0</td>\n",
       "      <td>SALVADOR</td>\n",
       "      <td>292740</td>\n",
       "      <td>...</td>\n",
       "      <td>NaN</td>\n",
       "      <td>NaN</td>\n",
       "      <td>NaN</td>\n",
       "      <td>NaN</td>\n",
       "      <td>NaN</td>\n",
       "      <td>NaN</td>\n",
       "      <td>2020-11-20</td>\n",
       "      <td>2020-12-07</td>\n",
       "      <td>False</td>\n",
       "      <td>17</td>\n",
       "    </tr>\n",
       "    <tr>\n",
       "      <th>1197884</th>\n",
       "      <td>srag20</td>\n",
       "      <td>2020-12-18</td>\n",
       "      <td>51</td>\n",
       "      <td>2020-12-12</td>\n",
       "      <td>50</td>\n",
       "      <td>ES</td>\n",
       "      <td>METROPOLITANA</td>\n",
       "      <td>1510.0</td>\n",
       "      <td>VILA VELHA</td>\n",
       "      <td>320520</td>\n",
       "      <td>...</td>\n",
       "      <td>NaN</td>\n",
       "      <td>NaN</td>\n",
       "      <td>NaN</td>\n",
       "      <td>NaN</td>\n",
       "      <td>NaN</td>\n",
       "      <td>NaN</td>\n",
       "      <td>2020-12-12</td>\n",
       "      <td>2021-01-22</td>\n",
       "      <td>True</td>\n",
       "      <td>41</td>\n",
       "    </tr>\n",
       "    <tr>\n",
       "      <th>1197885</th>\n",
       "      <td>srag20</td>\n",
       "      <td>2020-06-29</td>\n",
       "      <td>27</td>\n",
       "      <td>2020-05-22</td>\n",
       "      <td>21</td>\n",
       "      <td>PA</td>\n",
       "      <td>13 REGIONAL DE PROTECAO SOCIAL</td>\n",
       "      <td>1496.0</td>\n",
       "      <td>MOCAJUBA</td>\n",
       "      <td>150460</td>\n",
       "      <td>...</td>\n",
       "      <td>teste_rapido</td>\n",
       "      <td>NaN</td>\n",
       "      <td>NaN</td>\n",
       "      <td>positivo</td>\n",
       "      <td>positivo</td>\n",
       "      <td>NaN</td>\n",
       "      <td>2020-05-22</td>\n",
       "      <td>2020-07-15</td>\n",
       "      <td>True</td>\n",
       "      <td>54</td>\n",
       "    </tr>\n",
       "  </tbody>\n",
       "</table>\n",
       "<p>700085 rows × 159 columns</p>\n",
       "</div>"
      ],
      "text/plain": [
       "          id_DB DT_NOTIFIC  SEM_NOT DT_SIN_PRI  SEM_PRI SG_UF_NOT  \\\n",
       "10       srag20 2020-03-23       13 2020-03-14       11        SP   \n",
       "12       srag20 2020-03-20       12 2020-03-11       11        SP   \n",
       "22       srag20 2020-03-21       12 2020-03-15       12        SP   \n",
       "25       srag20 2020-03-24       13 2020-03-14       11        SP   \n",
       "40       srag20 2020-03-20       12 2020-03-18       12        SP   \n",
       "...         ...        ...      ...        ...      ...       ...   \n",
       "1197881  srag20 2021-01-03        1 2020-12-27       53        MG   \n",
       "1197882  srag20 2021-01-11        2 2021-01-02       53        AM   \n",
       "1197883  srag20 2021-02-25        8 2020-11-20       47        BA   \n",
       "1197884  srag20 2020-12-18       51 2020-12-12       50        ES   \n",
       "1197885  srag20 2020-06-29       27 2020-05-22       21        PA   \n",
       "\n",
       "                             ID_REGIONA  CO_REGIONA            ID_MUNICIP  \\\n",
       "10                        GVE I CAPITAL      1331.0             SAO PAULO   \n",
       "12                        GVE I CAPITAL      1331.0             SAO PAULO   \n",
       "22                        GVE I CAPITAL      1331.0             SAO PAULO   \n",
       "25                        GVE I CAPITAL      1331.0             SAO PAULO   \n",
       "40                        GVE I CAPITAL      1331.0             SAO PAULO   \n",
       "...                                 ...         ...                   ...   \n",
       "1197881            GOVERNADOR VALADARES      1471.0  GOVERNADOR VALADARES   \n",
       "1197882   ENTORNO DE MANAUS E RIO NEGRO      5584.0               CAREIRO   \n",
       "1197883  NUCLEO REGIONAL DE SAUDE LESTE      1380.0              SALVADOR   \n",
       "1197884                   METROPOLITANA      1510.0            VILA VELHA   \n",
       "1197885  13 REGIONAL DE PROTECAO SOCIAL      1496.0              MOCAJUBA   \n",
       "\n",
       "         CO_MUN_NOT  ...        TP_SOR  OUT_SOR DT_RES   RES_IGG   RES_IGM  \\\n",
       "10           355030  ...           NaN      NaN    NaN       NaN       NaN   \n",
       "12           355030  ...           NaN      NaN    NaN       NaN       NaN   \n",
       "22           355030  ...           NaN      NaN    NaN       NaN       NaN   \n",
       "25           355030  ...           NaN      NaN    NaN       NaN       NaN   \n",
       "40           355030  ...           NaN      NaN    NaN       NaN       NaN   \n",
       "...             ...  ...           ...      ...    ...       ...       ...   \n",
       "1197881      312770  ...           NaN      NaN    NaN       NaN       NaN   \n",
       "1197882      130110  ...           NaN      NaN    NaN       NaN       NaN   \n",
       "1197883      292740  ...           NaN      NaN    NaN       NaN       NaN   \n",
       "1197884      320520  ...           NaN      NaN    NaN       NaN       NaN   \n",
       "1197885      150460  ...  teste_rapido      NaN    NaN  positivo  positivo   \n",
       "\n",
       "        RES_IGA DT_SURV_BEGIN DT_SURV_EVENT survival_status survival_time  \n",
       "10          NaN    2020-03-14    2020-04-06           False            23  \n",
       "12          NaN    2020-03-11    2020-03-29            True            18  \n",
       "22          NaN    2020-03-15    2020-04-02            True            18  \n",
       "25          NaN    2020-03-14    2020-04-19           False            36  \n",
       "40          NaN    2020-03-18    2020-04-02           False            15  \n",
       "...         ...           ...           ...             ...           ...  \n",
       "1197881     NaN    2020-12-27    2021-01-28           False            32  \n",
       "1197882     NaN    2021-01-02    2021-01-21            True            19  \n",
       "1197883     NaN    2020-11-20    2020-12-07           False            17  \n",
       "1197884     NaN    2020-12-12    2021-01-22            True            41  \n",
       "1197885     NaN    2020-05-22    2020-07-15            True            54  \n",
       "\n",
       "[700085 rows x 159 columns]"
      ]
     },
     "execution_count": 7,
     "metadata": {},
     "output_type": "execute_result"
    }
   ],
   "source": [
    "sus.inproc_data_"
   ]
  },
  {
   "cell_type": "code",
   "execution_count": 8,
   "id": "julian-robertson",
   "metadata": {},
   "outputs": [
    {
     "name": "stdout",
     "output_type": "stream",
     "text": [
      "<class 'pandas.core.frame.DataFrame'>\n",
      "Int64Index: 700085 entries, 10 to 1197885\n",
      "Columns: 159 entries, id_DB to survival_time\n",
      "dtypes: bool(12), category(75), datetime64[ns](10), float64(7), int64(7), object(48)\n",
      "memory usage: 448.0+ MB\n"
     ]
    }
   ],
   "source": [
    "sus.inproc_data_.info()"
   ]
  },
  {
   "cell_type": "code",
   "execution_count": 9,
   "id": "pharmaceutical-murder",
   "metadata": {},
   "outputs": [
    {
     "name": "stdout",
     "output_type": "stream",
     "text": [
      "\n",
      "=== DATA PROCESSING STATUS ===\n",
      ">> running data processing: True\n",
      ">> data set in processing: srag20\n",
      "\n",
      ">> General Configs:\n",
      "proc datastamp: 2021-09-13 16:35:54\n",
      "proc code-path: C:/Users/jubma/COVID2021/susurv_cls.py\n",
      "proc saving concatenation: None\n",
      "proc saving original srag: None\n",
      "\n",
      ">> Processing Configs:\n",
      "\n",
      "Data set: srag20\n",
      "- event: death\n",
      "- input right-censoring: True\n",
      "- data set datestamp: 2021-08-19\n",
      "- case selection: ['covid_pos']\n",
      "- feature selection: False\n",
      "- text-generated clinical features: False\n",
      "- ibge data: False\n"
     ]
    }
   ],
   "source": [
    "sus.proc_status()"
   ]
  },
  {
   "cell_type": "code",
   "execution_count": 10,
   "id": "nervous-alabama",
   "metadata": {},
   "outputs": [
    {
     "data": {
      "text/plain": [
       "{'original_srag': 1197889,\n",
       " 'case_selection_covid_pos': 704088,\n",
       " 'date_process': 704088,\n",
       " 'survival_data': 700085}"
      ]
     },
     "execution_count": 10,
     "metadata": {},
     "output_type": "execute_result"
    }
   ],
   "source": [
    "sus.case_selection_tree()"
   ]
  },
  {
   "cell_type": "code",
   "execution_count": 11,
   "id": "injured-professional",
   "metadata": {
    "scrolled": true
   },
   "outputs": [
    {
     "name": "stdout",
     "output_type": "stream",
     "text": [
      "survival study date-interval\n"
     ]
    },
    {
     "data": {
      "text/plain": [
       "(['DT_NOTIFIC', 'DT_SIN_PRI', 'DT_INTERNA'], ['DT_EVOLUCA'])"
      ]
     },
     "execution_count": 11,
     "metadata": {},
     "output_type": "execute_result"
    }
   ],
   "source": [
    "# (dt_begin_study, dt_event)\n",
    "print('survival study date-interval')\n",
    "sus.study_interval_"
   ]
  },
  {
   "cell_type": "code",
   "execution_count": 12,
   "id": "blocked-drinking",
   "metadata": {},
   "outputs": [
    {
     "data": {
      "text/html": [
       "<div>\n",
       "<style scoped>\n",
       "    .dataframe tbody tr th:only-of-type {\n",
       "        vertical-align: middle;\n",
       "    }\n",
       "\n",
       "    .dataframe tbody tr th {\n",
       "        vertical-align: top;\n",
       "    }\n",
       "\n",
       "    .dataframe thead th {\n",
       "        text-align: right;\n",
       "    }\n",
       "</style>\n",
       "<table border=\"1\" class=\"dataframe\">\n",
       "  <thead>\n",
       "    <tr style=\"text-align: right;\">\n",
       "      <th></th>\n",
       "      <th>survival_time</th>\n",
       "      <th>survival_status</th>\n",
       "    </tr>\n",
       "  </thead>\n",
       "  <tbody>\n",
       "    <tr>\n",
       "      <th>10</th>\n",
       "      <td>23</td>\n",
       "      <td>False</td>\n",
       "    </tr>\n",
       "    <tr>\n",
       "      <th>12</th>\n",
       "      <td>18</td>\n",
       "      <td>True</td>\n",
       "    </tr>\n",
       "    <tr>\n",
       "      <th>22</th>\n",
       "      <td>18</td>\n",
       "      <td>True</td>\n",
       "    </tr>\n",
       "    <tr>\n",
       "      <th>25</th>\n",
       "      <td>36</td>\n",
       "      <td>False</td>\n",
       "    </tr>\n",
       "    <tr>\n",
       "      <th>40</th>\n",
       "      <td>15</td>\n",
       "      <td>False</td>\n",
       "    </tr>\n",
       "    <tr>\n",
       "      <th>...</th>\n",
       "      <td>...</td>\n",
       "      <td>...</td>\n",
       "    </tr>\n",
       "    <tr>\n",
       "      <th>1197881</th>\n",
       "      <td>32</td>\n",
       "      <td>False</td>\n",
       "    </tr>\n",
       "    <tr>\n",
       "      <th>1197882</th>\n",
       "      <td>19</td>\n",
       "      <td>True</td>\n",
       "    </tr>\n",
       "    <tr>\n",
       "      <th>1197883</th>\n",
       "      <td>17</td>\n",
       "      <td>False</td>\n",
       "    </tr>\n",
       "    <tr>\n",
       "      <th>1197884</th>\n",
       "      <td>41</td>\n",
       "      <td>True</td>\n",
       "    </tr>\n",
       "    <tr>\n",
       "      <th>1197885</th>\n",
       "      <td>54</td>\n",
       "      <td>True</td>\n",
       "    </tr>\n",
       "  </tbody>\n",
       "</table>\n",
       "<p>700085 rows × 2 columns</p>\n",
       "</div>"
      ],
      "text/plain": [
       "         survival_time  survival_status\n",
       "10                  23            False\n",
       "12                  18             True\n",
       "22                  18             True\n",
       "25                  36            False\n",
       "40                  15            False\n",
       "...                ...              ...\n",
       "1197881             32            False\n",
       "1197882             19             True\n",
       "1197883             17            False\n",
       "1197884             41             True\n",
       "1197885             54             True\n",
       "\n",
       "[700085 rows x 2 columns]"
      ]
     },
     "execution_count": 12,
     "metadata": {},
     "output_type": "execute_result"
    }
   ],
   "source": [
    "sus.inproc_data_[[sus.survival_time_feat_, sus.survival_status_feat_]]"
   ]
  },
  {
   "cell_type": "code",
   "execution_count": 13,
   "id": "backed-fabric",
   "metadata": {
    "scrolled": true
   },
   "outputs": [
    {
     "name": "stdout",
     "output_type": "stream",
     "text": [
      "<class 'pandas.core.frame.DataFrame'>\n",
      "Int64Index: 700085 entries, 10 to 1197885\n",
      "Data columns (total 28 columns):\n",
      " #   Column      Non-Null Count   Dtype   \n",
      "---  ------      --------------   -----   \n",
      " 0   CS_GESTANT  699983 non-null  category\n",
      " 1   FEBRE       613092 non-null  category\n",
      " 2   TOSSE       625457 non-null  category\n",
      " 3   GARGANTA    522686 non-null  category\n",
      " 4   DISPNEIA    622460 non-null  category\n",
      " 5   DESC_RESP   580621 non-null  category\n",
      " 6   SATURACAO   590569 non-null  category\n",
      " 7   DIARREIA    515022 non-null  category\n",
      " 8   VOMITO      505082 non-null  category\n",
      " 9   DOR_ABD     317731 non-null  category\n",
      " 10  FADIGA      329272 non-null  category\n",
      " 11  PERD_OLFT   324539 non-null  category\n",
      " 12  PERD_PALA   323576 non-null  category\n",
      " 13  OUTRO_DES   236322 non-null  object  \n",
      " 14  PUERPERA    275972 non-null  category\n",
      " 15  CARDIOPATI  365365 non-null  category\n",
      " 16  HEMATOLOGI  278203 non-null  category\n",
      " 17  SIND_DOWN   277057 non-null  category\n",
      " 18  HEPATICA    277474 non-null  category\n",
      " 19  ASMA        281728 non-null  category\n",
      " 20  DIABETES    341707 non-null  category\n",
      " 21  NEUROLOGIC  284969 non-null  category\n",
      " 22  PNEUMOPATI  284914 non-null  category\n",
      " 23  IMUNODEPRE  280576 non-null  category\n",
      " 24  RENAL       284241 non-null  category\n",
      " 25  OBESIDADE   287473 non-null  category\n",
      " 26  OBES_IMC    19620 non-null   float64 \n",
      " 27  MORB_DESC   184882 non-null  object  \n",
      "dtypes: category(25), float64(1), object(2)\n",
      "memory usage: 38.1+ MB\n"
     ]
    }
   ],
   "source": [
    "sus.inproc_data_[sus.clin_feat_].info()"
   ]
  },
  {
   "cell_type": "code",
   "execution_count": 14,
   "id": "given-linux",
   "metadata": {},
   "outputs": [
    {
     "name": "stdout",
     "output_type": "stream",
     "text": [
      "<class 'pandas.core.frame.DataFrame'>\n",
      "Int64Index: 700085 entries, 10 to 1197885\n",
      "Data columns (total 13 columns):\n",
      " #   Column      Non-Null Count   Dtype   \n",
      "---  ------      --------------   -----   \n",
      " 0   SG_UF_NOT   700085 non-null  object  \n",
      " 1   CO_MUN_NOT  700085 non-null  int64   \n",
      " 2   CO_UNI_NOT  700085 non-null  int64   \n",
      " 3   ID_PAIS     700085 non-null  object  \n",
      " 4   SG_UF       700032 non-null  object  \n",
      " 5   CO_MUN_RES  700032 non-null  float64 \n",
      " 6   SG_UF_INTE  700081 non-null  object  \n",
      " 7   CO_MU_INTE  660572 non-null  float64 \n",
      " 8   CS_SEXO     700085 non-null  category\n",
      " 9   NU_IDADE_N  700085 non-null  int64   \n",
      " 10  TP_IDADE    700085 non-null  category\n",
      " 11  CS_RACA     670701 non-null  category\n",
      " 12  CS_ESCOL_N  485957 non-null  category\n",
      "dtypes: category(4), float64(2), int64(3), object(4)\n",
      "memory usage: 56.1+ MB\n"
     ]
    }
   ],
   "source": [
    "sus.inproc_data_[sus.demo_feat_].info()"
   ]
  },
  {
   "cell_type": "code",
   "execution_count": 15,
   "id": "severe-liechtenstein",
   "metadata": {},
   "outputs": [
    {
     "data": {
      "text/plain": [
       "[]"
      ]
     },
     "execution_count": 15,
     "metadata": {},
     "output_type": "execute_result"
    }
   ],
   "source": [
    "sus.lab_feat_"
   ]
  },
  {
   "cell_type": "code",
   "execution_count": 16,
   "id": "personalized-heather",
   "metadata": {
    "scrolled": true
   },
   "outputs": [
    {
     "name": "stdout",
     "output_type": "stream",
     "text": [
      "Help on method feat_selection in module susurv_cls:\n",
      "\n",
      "feat_selection(demo_feat=True, lab_feat=True, generate_clin_feat=False) method of susurv_cls.SUSurv instance\n",
      "    This function is responsible for feature selection.\n",
      "    ! Attention: this function works by removing the non-selected feature \n",
      "                groups from the data set in processing.\n",
      "                To restore removed groups of features, it is necessary to\n",
      "                restart the data set processing with SUSurv.reset_surv_processing()\n",
      "                \n",
      "    By default, the function selects:\n",
      "        - general srag info, \n",
      "        - srag date features \n",
      "        - srag original clinical features\n",
      "        - srag demographic features\n",
      "        - srag laboratorial features [NOT IMPLEMENTED]\n",
      "    The selected features are predefined in the external .json files:\n",
      "        openDataSUS/data/_srag_featSelection_genFeat.json  (general info feats)\n",
      "        openDataSUS/data/_srag_featSelection_dtFeat.json   (date feats)\n",
      "        openDataSUS/data/_srag_featSelection_clinFeat.json (clinical feats)\n",
      "        openDataSUS/data/_srag_featSelection_demoFeat.json (demographic feats)\n",
      "        openDataSUS/data/_srag_featSelection_labFeat.json  (laboratorial feats)\n",
      "    \n",
      "    Parameters\n",
      "    ----------\n",
      "    demo_feat : bool, The default is True.\n",
      "        Whether to include demographic features from SRAG data set\n",
      "    lab_feat : bool, The default is True. (NOT IMPLEMENTED YET)\n",
      "        Whether to include laboratorial features from SRAG data set\n",
      "        containing test results for other viral coinfections\n",
      "    generate_clin_feat : bool, The default is False.\n",
      "        Whether to generate clinical features by processing text features using predefined regex patterns.\n",
      "        If True, executes SUSurv.generate_clinical_feat().             \n",
      "        \n",
      "    Returns\n",
      "    -------\n",
      "    None.\n",
      "    (Modifies the private attribute of the dataframe under processing)\n",
      "\n"
     ]
    }
   ],
   "source": [
    "help(sus.feat_selection)"
   ]
  },
  {
   "cell_type": "code",
   "execution_count": 17,
   "id": "moving-pricing",
   "metadata": {},
   "outputs": [
    {
     "name": "stdout",
     "output_type": "stream",
     "text": [
      ".. feature selection: demo_feat=True, lab_feat=True, generate_clin_feat=False\n",
      "\n",
      "=== DATA PROCESSING STATUS ===\n",
      ">> running data processing: True\n",
      ">> data set in processing: srag20\n",
      "\n",
      ">> General Configs:\n",
      "proc datastamp: 2021-09-13 16:35:54\n",
      "proc code-path: C:/Users/jubma/COVID2021/susurv_cls.py\n",
      "proc saving concatenation: None\n",
      "proc saving original srag: None\n",
      "\n",
      ">> Processing Configs:\n",
      "\n",
      "Data set: srag20\n",
      "- event: death\n",
      "- input right-censoring: True\n",
      "- data set datestamp: 2021-08-19\n",
      "- case selection: ['covid_pos']\n",
      "- feature selection: ['gen_feat', 'dt_feat', 'clin_feat', 'demo_feat', 'lab_feat']\n",
      "- text-generated clinical features: False\n",
      "- ibge data: False\n"
     ]
    }
   ],
   "source": [
    "sus.feat_selection()\n",
    "sus.proc_status()"
   ]
  },
  {
   "cell_type": "code",
   "execution_count": 18,
   "id": "optional-resident",
   "metadata": {
    "scrolled": false
   },
   "outputs": [
    {
     "name": "stdout",
     "output_type": "stream",
     "text": [
      ".. feature selection: demo_feat=True, lab_feat=False, generate_clin_feat=False\n",
      "\n",
      "=== DATA PROCESSING STATUS ===\n",
      ">> running data processing: True\n",
      ">> data set in processing: srag20\n",
      "\n",
      ">> General Configs:\n",
      "proc datastamp: 2021-09-13 16:35:54\n",
      "proc code-path: C:/Users/jubma/COVID2021/susurv_cls.py\n",
      "proc saving concatenation: None\n",
      "proc saving original srag: None\n",
      "\n",
      ">> Processing Configs:\n",
      "\n",
      "Data set: srag20\n",
      "- event: death\n",
      "- input right-censoring: True\n",
      "- data set datestamp: 2021-08-19\n",
      "- case selection: ['covid_pos']\n",
      "- feature selection: ['gen_feat', 'dt_feat', 'clin_feat', 'demo_feat']\n",
      "- text-generated clinical features: False\n",
      "- ibge data: False\n",
      ".. feature selection: demo_feat=True, lab_feat=True, generate_clin_feat=False\n"
     ]
    },
    {
     "ename": "ValueError",
     "evalue": "lab_feat were already removed from selection. Please, reset_surv_processing() to reload removed features.",
     "output_type": "error",
     "traceback": [
      "\u001b[1;31m---------------------------------------------------------------------------\u001b[0m",
      "\u001b[1;31mValueError\u001b[0m                                Traceback (most recent call last)",
      "\u001b[1;32m<ipython-input-18-89cc953c24c2>\u001b[0m in \u001b[0;36m<module>\u001b[1;34m\u001b[0m\n\u001b[0;32m      1\u001b[0m \u001b[0msus\u001b[0m\u001b[1;33m.\u001b[0m\u001b[0mfeat_selection\u001b[0m\u001b[1;33m(\u001b[0m\u001b[0mlab_feat\u001b[0m\u001b[1;33m=\u001b[0m\u001b[1;32mFalse\u001b[0m\u001b[1;33m)\u001b[0m\u001b[1;33m\u001b[0m\u001b[0m\n\u001b[0;32m      2\u001b[0m \u001b[0msus\u001b[0m\u001b[1;33m.\u001b[0m\u001b[0mproc_status\u001b[0m\u001b[1;33m(\u001b[0m\u001b[1;33m)\u001b[0m\u001b[1;33m\u001b[0m\u001b[0m\n\u001b[1;32m----> 3\u001b[1;33m \u001b[0msus\u001b[0m\u001b[1;33m.\u001b[0m\u001b[0mfeat_selection\u001b[0m\u001b[1;33m(\u001b[0m\u001b[0mlab_feat\u001b[0m\u001b[1;33m=\u001b[0m\u001b[1;32mTrue\u001b[0m\u001b[1;33m)\u001b[0m\u001b[1;33m\u001b[0m\u001b[0m\n\u001b[0m",
      "\u001b[1;32m~\\COVID2021\\susurv_cls.py\u001b[0m in \u001b[0;36mfeat_selection\u001b[1;34m(self, demo_feat, lab_feat, generate_clin_feat)\u001b[0m\n\u001b[0;32m    876\u001b[0m \u001b[1;33m\u001b[0m\u001b[0m\n\u001b[0;32m    877\u001b[0m         \u001b[1;32mif\u001b[0m \u001b[0mlab_feat\u001b[0m\u001b[1;33m:\u001b[0m\u001b[1;33m\u001b[0m\u001b[0m\n\u001b[1;32m--> 878\u001b[1;33m             \u001b[0mfeats\u001b[0m \u001b[1;33m+=\u001b[0m \u001b[0m__get_feats\u001b[0m\u001b[1;33m(\u001b[0m\u001b[1;34m'lab_feat'\u001b[0m\u001b[1;33m)\u001b[0m\u001b[1;33m\u001b[0m\u001b[0m\n\u001b[0m\u001b[0;32m    879\u001b[0m         \u001b[1;32melse\u001b[0m\u001b[1;33m:\u001b[0m \u001b[1;31m# lab_feat=False >> remove feats from selection\u001b[0m\u001b[1;33m\u001b[0m\u001b[0m\n\u001b[0;32m    880\u001b[0m             \u001b[0m__remove_feat_id\u001b[0m\u001b[1;33m(\u001b[0m\u001b[1;34m'lab_feat'\u001b[0m\u001b[1;33m)\u001b[0m\u001b[1;33m\u001b[0m\u001b[0m\n",
      "\u001b[1;32m~\\COVID2021\\susurv_cls.py\u001b[0m in \u001b[0;36m__get_feats\u001b[1;34m(id_)\u001b[0m\n\u001b[0;32m    858\u001b[0m                     \u001b[1;32mraise\u001b[0m \u001b[0mValueError\u001b[0m\u001b[1;33m(\u001b[0m\u001b[1;34m'{} feature identification not defined.'\u001b[0m\u001b[1;33m.\u001b[0m\u001b[0mformat\u001b[0m\u001b[1;33m(\u001b[0m\u001b[0mid_\u001b[0m\u001b[1;33m)\u001b[0m\u001b[1;33m)\u001b[0m\u001b[1;33m\u001b[0m\u001b[0m\n\u001b[0;32m    859\u001b[0m             \u001b[1;32melse\u001b[0m\u001b[1;33m:\u001b[0m \u001b[1;31m# requiring feat-id_=True that were aldeady removed from data\u001b[0m\u001b[1;33m\u001b[0m\u001b[0m\n\u001b[1;32m--> 860\u001b[1;33m                 \u001b[1;32mraise\u001b[0m \u001b[0mValueError\u001b[0m\u001b[1;33m(\u001b[0m\u001b[1;34m'{} were already removed from selection. Please, reset_surv_processing() to reload removed features.'\u001b[0m\u001b[1;33m.\u001b[0m\u001b[0mformat\u001b[0m\u001b[1;33m(\u001b[0m\u001b[0mid_\u001b[0m\u001b[1;33m)\u001b[0m\u001b[1;33m)\u001b[0m\u001b[1;33m\u001b[0m\u001b[0m\n\u001b[0m\u001b[0;32m    861\u001b[0m \u001b[1;33m\u001b[0m\u001b[0m\n\u001b[0;32m    862\u001b[0m \u001b[1;33m\u001b[0m\u001b[0m\n",
      "\u001b[1;31mValueError\u001b[0m: lab_feat were already removed from selection. Please, reset_surv_processing() to reload removed features."
     ]
    }
   ],
   "source": [
    "sus.feat_selection(lab_feat=False)\n",
    "sus.proc_status()\n",
    "sus.feat_selection(lab_feat=True)"
   ]
  },
  {
   "cell_type": "code",
   "execution_count": 19,
   "id": "material-words",
   "metadata": {
    "scrolled": true
   },
   "outputs": [
    {
     "name": "stdout",
     "output_type": "stream",
     "text": [
      "Help on method generate_clinical_feat in module susurv_cls:\n",
      "\n",
      "generate_clinical_feat(combine=True) method of susurv_cls.SUSurv instance\n",
      "    This function generates the boolean clinical features by:\n",
      "        - processing the < 'OUTRO_DES','MORB_DESC' > text features using preseted regex patterns \n",
      "        - unifying the identified (regex) patterns with the openDataSUS original clinical features\n",
      "        - unifying some strategic clinical features into single one \n",
      "    \n",
      "    Parameters\n",
      "    ----------\n",
      "    combine : bool, The default is True.\n",
      "        Wheter to combine some (pre-defined) strategic clinical features into single one. \n",
      "    \n",
      "    Returns\n",
      "    -------\n",
      "    None.\n",
      "    (Modifies the private attribute of the dataframe under processing)\n",
      "\n"
     ]
    }
   ],
   "source": [
    "help(sus.generate_clinical_feat)"
   ]
  },
  {
   "cell_type": "code",
   "execution_count": 20,
   "id": "equal-pension",
   "metadata": {
    "scrolled": true
   },
   "outputs": [
    {
     "name": "stdout",
     "output_type": "stream",
     "text": [
      ".. clinical features generation from text processing < OUTRO_DES MORB_DESC > SRAG features.\n",
      "\n",
      "=== DATA PROCESSING STATUS ===\n",
      ">> running data processing: True\n",
      ">> data set in processing: srag20\n",
      "\n",
      ">> General Configs:\n",
      "proc datastamp: 2021-09-13 16:35:54\n",
      "proc code-path: C:/Users/jubma/COVID2021/susurv_cls.py\n",
      "proc saving concatenation: None\n",
      "proc saving original srag: None\n",
      "\n",
      ">> Processing Configs:\n",
      "\n",
      "Data set: srag20\n",
      "- event: death\n",
      "- input right-censoring: True\n",
      "- data set datestamp: 2021-08-19\n",
      "- case selection: ['covid_pos']\n",
      "- feature selection: ['gen_feat', 'dt_feat', 'clin_feat', 'demo_feat']\n",
      "- text-generated clinical features: {'combine': True}\n",
      "- ibge data: False\n"
     ]
    }
   ],
   "source": [
    "sus.generate_clinical_feat()\n",
    "sus.proc_status()"
   ]
  },
  {
   "cell_type": "code",
   "execution_count": 21,
   "id": "secret-proposal",
   "metadata": {
    "scrolled": true
   },
   "outputs": [
    {
     "name": "stdout",
     "output_type": "stream",
     "text": [
      "<class 'pandas.core.frame.DataFrame'>\n",
      "Int64Index: 700085 entries, 10 to 1197885\n",
      "Data columns (total 44 columns):\n",
      " #   Column                     Non-Null Count   Dtype  \n",
      "---  ------                     --------------   -----  \n",
      " 0   ADINAMIA                   700085 non-null  boolean\n",
      " 1   ALTERACAO_APETITE          345232 non-null  boolean\n",
      " 2   ALTERACAO_OLFATO           700085 non-null  boolean\n",
      " 3   ALTERACAO_PALADAR          700085 non-null  boolean\n",
      " 4   ASSINTOMATICO              345232 non-null  boolean\n",
      " 5   CEFALEIA                   345232 non-null  boolean\n",
      " 6   CIANOSE                    345232 non-null  boolean\n",
      " 7   CONFUSAO                   345232 non-null  boolean\n",
      " 8   CONGESTAO_NASAL            345232 non-null  boolean\n",
      " 9   CORIZA                     345232 non-null  boolean\n",
      " 10  DIABETES                   700085 non-null  boolean\n",
      " 11  DIARREIA                   700085 non-null  boolean\n",
      " 12  DISTURBIOS_RESPIRATORIOS   700085 non-null  boolean\n",
      " 13  DOENCA_CARDIOVASCULAR      700085 non-null  boolean\n",
      " 14  DOENCA_HEPATICA            700085 non-null  boolean\n",
      " 15  DOENCA_NEUROLOGICA         700085 non-null  boolean\n",
      " 16  DOENCA_RENAL               700085 non-null  boolean\n",
      " 17  DOENCA_RESPIRATORIA        700085 non-null  boolean\n",
      " 18  DOR_DE_GARGANTA            700085 non-null  boolean\n",
      " 19  DOR_OLHOS                  345232 non-null  boolean\n",
      " 20  DORES_CORPO                700085 non-null  boolean\n",
      " 21  ESCARRO                    345232 non-null  boolean\n",
      " 22  ESPIRRO                    345232 non-null  boolean\n",
      " 23  ETILISMO                   345232 non-null  boolean\n",
      " 24  FEBRE                      700085 non-null  boolean\n",
      " 25  GESTANTE                   700085 non-null  boolean\n",
      " 26  IMUNODEFICIENTE_SUPRIMIDO  700085 non-null  boolean\n",
      " 27  IRRITABILIDADE             345232 non-null  boolean\n",
      " 28  MAL_ESTAR                  345232 non-null  boolean\n",
      " 29  NAUSEA                     345232 non-null  boolean\n",
      " 30  NEOPLASIA                  345232 non-null  boolean\n",
      " 31  OBESIDADE                  700085 non-null  boolean\n",
      " 32  PERDA_PESO                 345232 non-null  boolean\n",
      " 33  SATURACAO_MENOR_95         700085 non-null  boolean\n",
      " 34  TABAGISMO                  345232 non-null  boolean\n",
      " 35  TONTURA                    345232 non-null  boolean\n",
      " 36  TOSSE                      700085 non-null  boolean\n",
      " 37  VOMITO                     700085 non-null  boolean\n",
      " 38  DOENCA_HEMATOLOGICA        269716 non-null  boolean\n",
      " 39  SINDROME_DOWN              269361 non-null  boolean\n",
      " 40  ALTERACAO_OLFATO_PALADAR   700085 non-null  boolean\n",
      " 41  ALTERACAO_RESPIRATORIA     700085 non-null  boolean\n",
      " 42  SINTOMA_GRIPAL             700085 non-null  boolean\n",
      " 43  NAUSEA_VOMITO              700085 non-null  boolean\n",
      "dtypes: boolean(44)\n",
      "memory usage: 64.1 MB\n"
     ]
    }
   ],
   "source": [
    "sus.inproc_data_[sus.clin_feat_].info()"
   ]
  },
  {
   "cell_type": "code",
   "execution_count": 22,
   "id": "guilty-default",
   "metadata": {},
   "outputs": [
    {
     "name": "stdout",
     "output_type": "stream",
     "text": [
      "Clinical features generation is updated\n"
     ]
    }
   ],
   "source": [
    "sus.generate_clinical_feat()"
   ]
  },
  {
   "cell_type": "code",
   "execution_count": 23,
   "id": "developmental-pontiac",
   "metadata": {
    "scrolled": true
   },
   "outputs": [
    {
     "name": "stdout",
     "output_type": "stream",
     "text": [
      "<class 'pandas.core.frame.DataFrame'>\n",
      "Int64Index: 700085 entries, 10 to 1197885\n",
      "Data columns (total 80 columns):\n",
      " #   Column                     Non-Null Count   Dtype         \n",
      "---  ------                     --------------   -----         \n",
      " 0   id_DB                      700085 non-null  object        \n",
      " 1   survival_time              700085 non-null  int64         \n",
      " 2   survival_status            700085 non-null  bool          \n",
      " 3   DT_SURV_BEGIN              700085 non-null  datetime64[ns]\n",
      " 4   DT_SURV_EVENT              700085 non-null  datetime64[ns]\n",
      " 5   HOSPITAL                   684478 non-null  category      \n",
      " 6   UTI                        609086 non-null  category      \n",
      " 7   SUPORT_VEN                 612016 non-null  category      \n",
      " 8   FATOR_RISC                 700085 non-null  category      \n",
      " 9   AN_SARS2                   28144 non-null   category      \n",
      " 10  PCR_SARS2                  700085 non-null  bool          \n",
      " 11  RES_IGM                    104940 non-null  category      \n",
      " 12  RES_IGA                    62364 non-null   category      \n",
      " 13  CLASSI_FIN                 700085 non-null  category      \n",
      " 14  EVOLUCAO                   663302 non-null  category      \n",
      " 15  DT_NOTIFIC                 700085 non-null  datetime64[ns]\n",
      " 16  DT_SIN_PRI                 700085 non-null  datetime64[ns]\n",
      " 17  DT_INTERNA                 649080 non-null  datetime64[ns]\n",
      " 18  DT_ENTUTI                  219173 non-null  datetime64[ns]\n",
      " 19  DT_SAIDUTI                 127148 non-null  datetime64[ns]\n",
      " 20  DT_EVOLUCA                 617671 non-null  datetime64[ns]\n",
      " 21  DT_ENCERRA                 665141 non-null  datetime64[ns]\n",
      " 22  DT_DIGITA                  700085 non-null  datetime64[ns]\n",
      " 23  SG_UF_NOT                  700085 non-null  object        \n",
      " 24  CO_MUN_NOT                 700085 non-null  int64         \n",
      " 25  CO_UNI_NOT                 700085 non-null  int64         \n",
      " 26  ID_PAIS                    700085 non-null  object        \n",
      " 27  SG_UF                      700032 non-null  object        \n",
      " 28  CO_MUN_RES                 700032 non-null  float64       \n",
      " 29  SG_UF_INTE                 700081 non-null  object        \n",
      " 30  CO_MU_INTE                 660572 non-null  float64       \n",
      " 31  CS_SEXO                    700085 non-null  category      \n",
      " 32  NU_IDADE_N                 700085 non-null  int64         \n",
      " 33  TP_IDADE                   700085 non-null  category      \n",
      " 34  CS_RACA                    670701 non-null  category      \n",
      " 35  CS_ESCOL_N                 485957 non-null  category      \n",
      " 36  ADINAMIA                   700085 non-null  boolean       \n",
      " 37  ALTERACAO_APETITE          345232 non-null  boolean       \n",
      " 38  ALTERACAO_OLFATO           700085 non-null  boolean       \n",
      " 39  ALTERACAO_PALADAR          700085 non-null  boolean       \n",
      " 40  ASSINTOMATICO              345232 non-null  boolean       \n",
      " 41  CEFALEIA                   345232 non-null  boolean       \n",
      " 42  CIANOSE                    345232 non-null  boolean       \n",
      " 43  CONFUSAO                   345232 non-null  boolean       \n",
      " 44  CONGESTAO_NASAL            345232 non-null  boolean       \n",
      " 45  CORIZA                     345232 non-null  boolean       \n",
      " 46  DIABETES                   700085 non-null  boolean       \n",
      " 47  DIARREIA                   700085 non-null  boolean       \n",
      " 48  DISTURBIOS_RESPIRATORIOS   700085 non-null  boolean       \n",
      " 49  DOENCA_CARDIOVASCULAR      700085 non-null  boolean       \n",
      " 50  DOENCA_HEPATICA            700085 non-null  boolean       \n",
      " 51  DOENCA_NEUROLOGICA         700085 non-null  boolean       \n",
      " 52  DOENCA_RENAL               700085 non-null  boolean       \n",
      " 53  DOENCA_RESPIRATORIA        700085 non-null  boolean       \n",
      " 54  DOR_DE_GARGANTA            700085 non-null  boolean       \n",
      " 55  DOR_OLHOS                  345232 non-null  boolean       \n",
      " 56  DORES_CORPO                700085 non-null  boolean       \n",
      " 57  ESCARRO                    345232 non-null  boolean       \n",
      " 58  ESPIRRO                    345232 non-null  boolean       \n",
      " 59  ETILISMO                   345232 non-null  boolean       \n",
      " 60  FEBRE                      700085 non-null  boolean       \n",
      " 61  GESTANTE                   700085 non-null  boolean       \n",
      " 62  IMUNODEFICIENTE_SUPRIMIDO  700085 non-null  boolean       \n",
      " 63  IRRITABILIDADE             345232 non-null  boolean       \n",
      " 64  MAL_ESTAR                  345232 non-null  boolean       \n",
      " 65  NAUSEA                     345232 non-null  boolean       \n",
      " 66  NEOPLASIA                  345232 non-null  boolean       \n",
      " 67  OBESIDADE                  700085 non-null  boolean       \n",
      " 68  PERDA_PESO                 345232 non-null  boolean       \n",
      " 69  SATURACAO_MENOR_95         700085 non-null  boolean       \n",
      " 70  TABAGISMO                  345232 non-null  boolean       \n",
      " 71  TONTURA                    345232 non-null  boolean       \n",
      " 72  TOSSE                      700085 non-null  boolean       \n",
      " 73  VOMITO                     700085 non-null  boolean       \n",
      " 74  DOENCA_HEMATOLOGICA        269716 non-null  boolean       \n",
      " 75  SINDROME_DOWN              269361 non-null  boolean       \n",
      " 76  ALTERACAO_OLFATO_PALADAR   700085 non-null  boolean       \n",
      " 77  ALTERACAO_RESPIRATORIA     700085 non-null  boolean       \n",
      " 78  SINTOMA_GRIPAL             700085 non-null  boolean       \n",
      " 79  NAUSEA_VOMITO              700085 non-null  boolean       \n",
      "dtypes: bool(2), boolean(44), category(13), datetime64[ns](10), float64(2), int64(4), object(5)\n",
      "memory usage: 186.3+ MB\n"
     ]
    }
   ],
   "source": [
    "sus.inproc_data_.info()"
   ]
  },
  {
   "cell_type": "code",
   "execution_count": 24,
   "id": "possible-peripheral",
   "metadata": {
    "scrolled": true
   },
   "outputs": [
    {
     "name": "stdout",
     "output_type": "stream",
     "text": [
      "Help on method case_selection in module susurv_cls:\n",
      "\n",
      "case_selection(method='covid_pos') method of susurv_cls.SUSurv instance\n",
      "    This function is responsible for filtering the data set transactions.\n",
      "    ! Attention: the filtering (selection) method removes transactions \n",
      "            from the data set in processing.\n",
      "            To restore removed transaction, it is necessary to\n",
      "            restart the data set processing with SUSurv.reset_surv_processing()\n",
      "    \n",
      "    Methods:\n",
      "        \n",
      "        - \"covid_pos\": Selects the transactions that are COVID positive. \n",
      "        The selection is a disjunction of the following conditions:\n",
      "        (CLASSI_FIN=='covid19'):                 final diagnosis of the case\n",
      "        (AN_SARS2==True):                        \n",
      "        (PCR_SARS2==True):                       RT-PCR for SARS-CoV-2 result\n",
      "        (RES_IGM==True):\n",
      "        (RES_IGA==True): \n",
      "        \n",
      "        - \"hosp\": Selects the transactions that were hospitalised.\n",
      "        The selection is a disjunction of the following conditions:\n",
      "            (HOSPITAL=='sim'):      Hospitalised patient\n",
      "            (DT_INTERNA):           Valid date of hospitalisation\n",
      "            (UTI=='sim'):           ICU hospitalisation                 \n",
      "            (DT_ENTUTI):            Valid date of ICU hospitalisation\n",
      "        \n",
      "        - \"full_clin\": Selects the transactions with full clinical \n",
      "        information (no missing values on clinical features)\n",
      "        \n",
      "        - \"full_demo\": Selects the transactions with full demographic \n",
      "        information (no missing values on demographic features)\n",
      "        \n",
      "        [NOT IMPLEMENTED]\n",
      "        - \"age_adult\": Selects the transactions with adult age\n",
      "        (20 < age < 60)\n",
      "        \n",
      "        - \"age_over_20\": Selects the transactions with age > 20\n",
      "    \n",
      "    Parameters\n",
      "    ----------\n",
      "    method : str\n",
      "        The method of case selection. The default is covid_pos.\n",
      "    \n",
      "    Returns\n",
      "    -------\n",
      "    None.\n",
      "    (Modifies the private attribute of the dataframe under processing)\n",
      "\n"
     ]
    }
   ],
   "source": [
    "help(sus.case_selection)"
   ]
  },
  {
   "cell_type": "code",
   "execution_count": 25,
   "id": "imposed-expansion",
   "metadata": {},
   "outputs": [
    {
     "name": "stdout",
     "output_type": "stream",
     "text": [
      ".. case selection: hosp\n",
      "\n",
      "=== DATA PROCESSING STATUS ===\n",
      ">> running data processing: True\n",
      ">> data set in processing: srag20\n",
      "\n",
      ">> General Configs:\n",
      "proc datastamp: 2021-09-13 16:35:54\n",
      "proc code-path: C:/Users/jubma/COVID2021/susurv_cls.py\n",
      "proc saving concatenation: None\n",
      "proc saving original srag: None\n",
      "\n",
      ">> Processing Configs:\n",
      "\n",
      "Data set: srag20\n",
      "- event: death\n",
      "- input right-censoring: True\n",
      "- data set datestamp: 2021-08-19\n",
      "- case selection: ['covid_pos', 'hosp']\n",
      "- feature selection: ['gen_feat', 'dt_feat', 'clin_feat', 'demo_feat']\n",
      "- text-generated clinical features: {'combine': True}\n",
      "- ibge data: False\n"
     ]
    },
    {
     "data": {
      "text/plain": [
       "{'original_srag': 1197889,\n",
       " 'case_selection_covid_pos': 704088,\n",
       " 'date_process': 704088,\n",
       " 'survival_data': 700085,\n",
       " 'feat_selection': 700085,\n",
       " 'generate_clin_feat': 700085,\n",
       " 'case_selection_hosp': 661897}"
      ]
     },
     "execution_count": 25,
     "metadata": {},
     "output_type": "execute_result"
    }
   ],
   "source": [
    "sus.case_selection(method='hosp')\n",
    "sus.proc_status()\n",
    "sus.case_selection_tree()"
   ]
  },
  {
   "cell_type": "code",
   "execution_count": 26,
   "id": "unlikely-discrimination",
   "metadata": {},
   "outputs": [
    {
     "name": "stdout",
     "output_type": "stream",
     "text": [
      ".. case selection: full_clin\n"
     ]
    },
    {
     "data": {
      "text/plain": [
       "{'original_srag': 1197889,\n",
       " 'case_selection_covid_pos': 704088,\n",
       " 'date_process': 704088,\n",
       " 'survival_data': 700085,\n",
       " 'feat_selection': 700085,\n",
       " 'generate_clin_feat': 700085,\n",
       " 'case_selection_hosp': 661897,\n",
       " 'case_selection_full_clin': 157276}"
      ]
     },
     "execution_count": 26,
     "metadata": {},
     "output_type": "execute_result"
    }
   ],
   "source": [
    "sus.case_selection(method='full_clin')\n",
    "sus.case_selection_tree()"
   ]
  },
  {
   "cell_type": "code",
   "execution_count": 27,
   "id": "bigger-outdoors",
   "metadata": {},
   "outputs": [
    {
     "name": "stdout",
     "output_type": "stream",
     "text": [
      "Case selection is updated\n"
     ]
    }
   ],
   "source": [
    "sus.case_selection(method='full_clin')"
   ]
  },
  {
   "cell_type": "code",
   "execution_count": 28,
   "id": "exceptional-proportion",
   "metadata": {},
   "outputs": [
    {
     "name": "stdout",
     "output_type": "stream",
     "text": [
      "Help on method add_ibge_feats in module susurv_cls:\n",
      "\n",
      "add_ibge_feats() method of susurv_cls.SUSurv instance\n",
      "    !!! NOT IMPLEMENTED\n",
      "\n"
     ]
    }
   ],
   "source": [
    "help(sus.add_ibge_feats)"
   ]
  },
  {
   "cell_type": "code",
   "execution_count": 29,
   "id": "rural-jackson",
   "metadata": {},
   "outputs": [
    {
     "name": "stdout",
     "output_type": "stream",
     "text": [
      "> closed srag20 processing\n"
     ]
    }
   ],
   "source": [
    "sus.close_surv_processing()"
   ]
  },
  {
   "cell_type": "code",
   "execution_count": 30,
   "id": "centered-flour",
   "metadata": {},
   "outputs": [
    {
     "name": "stdout",
     "output_type": "stream",
     "text": [
      "\n",
      "=== DATA PROCESSING STATUS ===\n",
      ">> running data processing: False\n",
      "\n",
      ">> General Configs:\n",
      "proc datastamp: 2021-09-13 16:35:54\n",
      "proc code-path: C:/Users/jubma/COVID2021/susurv_cls.py\n",
      "proc saving concatenation: None\n",
      "proc saving original srag: None\n",
      "\n",
      ">> Processing Configs:\n",
      "\n",
      "Data set: srag20\n",
      "- event: death\n",
      "- input right-censoring: True\n",
      "- data set datestamp: 2021-08-19\n",
      "- case selection: ['covid_pos', 'hosp', 'full_clin']\n",
      "- feature selection: ['gen_feat', 'dt_feat', 'clin_feat', 'demo_feat']\n",
      "- text-generated clinical features: {'combine': True}\n",
      "- ibge data: False\n"
     ]
    }
   ],
   "source": [
    "sus.proc_status()"
   ]
  },
  {
   "cell_type": "code",
   "execution_count": 31,
   "id": "renewable-debut",
   "metadata": {},
   "outputs": [
    {
     "ename": "ValueError",
     "evalue": "No data processing is open. Please, SUSurv.open_surv_processing(db_ref)",
     "output_type": "error",
     "traceback": [
      "\u001b[1;31m---------------------------------------------------------------------------\u001b[0m",
      "\u001b[1;31mValueError\u001b[0m                                Traceback (most recent call last)",
      "\u001b[1;32m<ipython-input-31-1bd1cb671b52>\u001b[0m in \u001b[0;36m<module>\u001b[1;34m\u001b[0m\n\u001b[1;32m----> 1\u001b[1;33m \u001b[0msus\u001b[0m\u001b[1;33m.\u001b[0m\u001b[0minproc_\u001b[0m\u001b[1;33m\u001b[0m\u001b[0m\n\u001b[0m",
      "\u001b[1;32m~\\COVID2021\\susurv_cls.py\u001b[0m in \u001b[0;36minproc_\u001b[1;34m(self)\u001b[0m\n\u001b[0;32m    597\u001b[0m     \u001b[1;33m@\u001b[0m\u001b[0mproperty\u001b[0m\u001b[1;33m\u001b[0m\u001b[0m\n\u001b[0;32m    598\u001b[0m     \u001b[1;32mdef\u001b[0m \u001b[0minproc_\u001b[0m\u001b[1;33m(\u001b[0m\u001b[0mself\u001b[0m\u001b[1;33m)\u001b[0m\u001b[1;33m:\u001b[0m\u001b[1;33m\u001b[0m\u001b[0m\n\u001b[1;32m--> 599\u001b[1;33m         \u001b[0mself\u001b[0m\u001b[1;33m.\u001b[0m\u001b[0m__verify_opening\u001b[0m\u001b[1;33m(\u001b[0m\u001b[1;33m)\u001b[0m\u001b[1;33m\u001b[0m\u001b[0m\n\u001b[0m\u001b[0;32m    600\u001b[0m         \u001b[1;32mreturn\u001b[0m \u001b[0mself\u001b[0m\u001b[1;33m.\u001b[0m\u001b[0m__db_ref_inproc\u001b[0m\u001b[1;33m\u001b[0m\u001b[0m\n\u001b[0;32m    601\u001b[0m \u001b[1;33m\u001b[0m\u001b[0m\n",
      "\u001b[1;32m~\\COVID2021\\susurv_cls.py\u001b[0m in \u001b[0;36m__verify_opening\u001b[1;34m(self)\u001b[0m\n\u001b[0;32m    101\u001b[0m     \u001b[1;32mdef\u001b[0m \u001b[0m__verify_opening\u001b[0m\u001b[1;33m(\u001b[0m\u001b[0mself\u001b[0m\u001b[1;33m)\u001b[0m\u001b[1;33m:\u001b[0m\u001b[1;33m\u001b[0m\u001b[0m\n\u001b[0;32m    102\u001b[0m         \u001b[1;32mif\u001b[0m \u001b[1;32mnot\u001b[0m \u001b[0mself\u001b[0m\u001b[1;33m.\u001b[0m\u001b[0m__open\u001b[0m\u001b[1;33m:\u001b[0m\u001b[1;33m\u001b[0m\u001b[0m\n\u001b[1;32m--> 103\u001b[1;33m             \u001b[1;32mraise\u001b[0m \u001b[0mValueError\u001b[0m\u001b[1;33m(\u001b[0m\u001b[0mSUSurv\u001b[0m\u001b[1;33m.\u001b[0m\u001b[0m__CLOSE_MSG\u001b[0m\u001b[1;33m)\u001b[0m\u001b[1;33m\u001b[0m\u001b[0m\n\u001b[0m\u001b[0;32m    104\u001b[0m \u001b[1;33m\u001b[0m\u001b[0m\n\u001b[0;32m    105\u001b[0m     \u001b[1;33m@\u001b[0m\u001b[0mproperty\u001b[0m\u001b[1;33m\u001b[0m\u001b[0m\n",
      "\u001b[1;31mValueError\u001b[0m: No data processing is open. Please, SUSurv.open_surv_processing(db_ref)"
     ]
    }
   ],
   "source": [
    "sus.inproc_"
   ]
  },
  {
   "cell_type": "code",
   "execution_count": 32,
   "id": "recreational-assistant",
   "metadata": {},
   "outputs": [
    {
     "name": "stdout",
     "output_type": "stream",
     "text": [
      "Reopened srag20 data set processing.\n",
      "- event: death\n",
      "- input right-censoring: True\n",
      "- data set datestamp: 2021-08-19\n",
      "- case selection: ['covid_pos', 'hosp', 'full_clin']\n",
      "- feature selection: ['gen_feat', 'dt_feat', 'clin_feat', 'demo_feat']\n",
      "- text-generated clinical features: {'combine': True}\n",
      "- ibge data: False\n"
     ]
    }
   ],
   "source": [
    "sus.open_surv_processing('srag20')"
   ]
  },
  {
   "cell_type": "code",
   "execution_count": 33,
   "id": "recovered-entry",
   "metadata": {
    "scrolled": true
   },
   "outputs": [
    {
     "name": "stdout",
     "output_type": "stream",
     "text": [
      "<class 'pandas.core.frame.DataFrame'>\n",
      "Int64Index: 157276 entries, 25 to 1197881\n",
      "Data columns (total 80 columns):\n",
      " #   Column                     Non-Null Count   Dtype         \n",
      "---  ------                     --------------   -----         \n",
      " 0   id_DB                      157276 non-null  object        \n",
      " 1   survival_time              157276 non-null  int64         \n",
      " 2   survival_status            157276 non-null  bool          \n",
      " 3   DT_SURV_BEGIN              157276 non-null  datetime64[ns]\n",
      " 4   DT_SURV_EVENT              157276 non-null  datetime64[ns]\n",
      " 5   HOSPITAL                   157117 non-null  category      \n",
      " 6   UTI                        153303 non-null  category      \n",
      " 7   SUPORT_VEN                 151659 non-null  category      \n",
      " 8   FATOR_RISC                 157276 non-null  category      \n",
      " 9   AN_SARS2                   7534 non-null    category      \n",
      " 10  PCR_SARS2                  157276 non-null  bool          \n",
      " 11  RES_IGM                    30984 non-null   category      \n",
      " 12  RES_IGA                    21607 non-null   category      \n",
      " 13  CLASSI_FIN                 157276 non-null  category      \n",
      " 14  EVOLUCAO                   151806 non-null  category      \n",
      " 15  DT_NOTIFIC                 157276 non-null  datetime64[ns]\n",
      " 16  DT_SIN_PRI                 157276 non-null  datetime64[ns]\n",
      " 17  DT_INTERNA                 156070 non-null  datetime64[ns]\n",
      " 18  DT_ENTUTI                  61408 non-null   datetime64[ns]\n",
      " 19  DT_SAIDUTI                 40757 non-null   datetime64[ns]\n",
      " 20  DT_EVOLUCA                 145804 non-null  datetime64[ns]\n",
      " 21  DT_ENCERRA                 151843 non-null  datetime64[ns]\n",
      " 22  DT_DIGITA                  157276 non-null  datetime64[ns]\n",
      " 23  SG_UF_NOT                  157276 non-null  object        \n",
      " 24  CO_MUN_NOT                 157276 non-null  int64         \n",
      " 25  CO_UNI_NOT                 157276 non-null  int64         \n",
      " 26  ID_PAIS                    157276 non-null  object        \n",
      " 27  SG_UF                      157260 non-null  object        \n",
      " 28  CO_MUN_RES                 157260 non-null  float64       \n",
      " 29  SG_UF_INTE                 157276 non-null  object        \n",
      " 30  CO_MU_INTE                 157119 non-null  float64       \n",
      " 31  CS_SEXO                    157276 non-null  category      \n",
      " 32  NU_IDADE_N                 157276 non-null  int64         \n",
      " 33  TP_IDADE                   157276 non-null  category      \n",
      " 34  CS_RACA                    154284 non-null  category      \n",
      " 35  CS_ESCOL_N                 128214 non-null  category      \n",
      " 36  ADINAMIA                   157276 non-null  boolean       \n",
      " 37  ALTERACAO_APETITE          157276 non-null  boolean       \n",
      " 38  ALTERACAO_OLFATO           157276 non-null  boolean       \n",
      " 39  ALTERACAO_PALADAR          157276 non-null  boolean       \n",
      " 40  ASSINTOMATICO              157276 non-null  boolean       \n",
      " 41  CEFALEIA                   157276 non-null  boolean       \n",
      " 42  CIANOSE                    157276 non-null  boolean       \n",
      " 43  CONFUSAO                   157276 non-null  boolean       \n",
      " 44  CONGESTAO_NASAL            157276 non-null  boolean       \n",
      " 45  CORIZA                     157276 non-null  boolean       \n",
      " 46  DIABETES                   157276 non-null  boolean       \n",
      " 47  DIARREIA                   157276 non-null  boolean       \n",
      " 48  DISTURBIOS_RESPIRATORIOS   157276 non-null  boolean       \n",
      " 49  DOENCA_CARDIOVASCULAR      157276 non-null  boolean       \n",
      " 50  DOENCA_HEPATICA            157276 non-null  boolean       \n",
      " 51  DOENCA_NEUROLOGICA         157276 non-null  boolean       \n",
      " 52  DOENCA_RENAL               157276 non-null  boolean       \n",
      " 53  DOENCA_RESPIRATORIA        157276 non-null  boolean       \n",
      " 54  DOR_DE_GARGANTA            157276 non-null  boolean       \n",
      " 55  DOR_OLHOS                  157276 non-null  boolean       \n",
      " 56  DORES_CORPO                157276 non-null  boolean       \n",
      " 57  ESCARRO                    157276 non-null  boolean       \n",
      " 58  ESPIRRO                    157276 non-null  boolean       \n",
      " 59  ETILISMO                   157276 non-null  boolean       \n",
      " 60  FEBRE                      157276 non-null  boolean       \n",
      " 61  GESTANTE                   157276 non-null  boolean       \n",
      " 62  IMUNODEFICIENTE_SUPRIMIDO  157276 non-null  boolean       \n",
      " 63  IRRITABILIDADE             157276 non-null  boolean       \n",
      " 64  MAL_ESTAR                  157276 non-null  boolean       \n",
      " 65  NAUSEA                     157276 non-null  boolean       \n",
      " 66  NEOPLASIA                  157276 non-null  boolean       \n",
      " 67  OBESIDADE                  157276 non-null  boolean       \n",
      " 68  PERDA_PESO                 157276 non-null  boolean       \n",
      " 69  SATURACAO_MENOR_95         157276 non-null  boolean       \n",
      " 70  TABAGISMO                  157276 non-null  boolean       \n",
      " 71  TONTURA                    157276 non-null  boolean       \n",
      " 72  TOSSE                      157276 non-null  boolean       \n",
      " 73  VOMITO                     157276 non-null  boolean       \n",
      " 74  DOENCA_HEMATOLOGICA        157276 non-null  boolean       \n",
      " 75  SINDROME_DOWN              157276 non-null  boolean       \n",
      " 76  ALTERACAO_OLFATO_PALADAR   157276 non-null  boolean       \n",
      " 77  ALTERACAO_RESPIRATORIA     157276 non-null  boolean       \n",
      " 78  SINTOMA_GRIPAL             157276 non-null  boolean       \n",
      " 79  NAUSEA_VOMITO              157276 non-null  boolean       \n",
      "dtypes: bool(2), boolean(44), category(13), datetime64[ns](10), float64(2), int64(4), object(5)\n",
      "memory usage: 41.8+ MB\n"
     ]
    }
   ],
   "source": [
    "sus.inproc_data_.info()"
   ]
  },
  {
   "cell_type": "markdown",
   "id": "ambient-northwest",
   "metadata": {},
   "source": [
    "### SRAG21"
   ]
  },
  {
   "cell_type": "code",
   "execution_count": 34,
   "id": "organic-costume",
   "metadata": {},
   "outputs": [
    {
     "name": "stdout",
     "output_type": "stream",
     "text": [
      "Help on method open_surv_processing in module susurv_cls:\n",
      "\n",
      "open_surv_processing(db_ref, event='death', input_cens=True, case_selection=True, reset=False) method of susurv_cls.SUSurv instance\n",
      "    Open the processing mode for a data set \n",
      "        \n",
      "    Parameters\n",
      "    ----------\n",
      "    db_ref : str\n",
      "        [srag20, srag21]\n",
      "        The identification of the data set to instantiate a new processing.\n",
      "    event : str, The default is 'death'.\n",
      "        ['icu', 'icu_death', 'death']\n",
      "        Survival event to consider in the survival study.\n",
      "    input_cens : bool, The default is True.\n",
      "        Whether to input right-censoring. \n",
      "    case_selection: bool, The default is True.\n",
      "        If True, performs the default case selection. \n",
      "    reset: bool, The default is False.\n",
      "        If True, instantiate a entirely new processing for db_ref, even if \n",
      "        an ongoing process is already registered in the SUSurv object.\n",
      "        If False, restores the ongoing process.\n",
      "    \n",
      "    Returns\n",
      "    -------\n",
      "    None.\n",
      "\n"
     ]
    }
   ],
   "source": [
    "help(sus.open_surv_processing)"
   ]
  },
  {
   "cell_type": "code",
   "execution_count": 35,
   "id": "hindu-reason",
   "metadata": {},
   "outputs": [
    {
     "name": "stdout",
     "output_type": "stream",
     "text": [
      "> closed srag20 processing\n",
      ".. loading D:\\GitRepositories\\openDataSUS/data/srag21.csv\n",
      ".. case selection: covid_pos\n",
      ".. date-type formatting\n",
      ".. survival features generation\n",
      "srag21 new processing opened.\n"
     ]
    }
   ],
   "source": [
    "sus.open_surv_processing('srag21', event='icu_death')"
   ]
  },
  {
   "cell_type": "code",
   "execution_count": 36,
   "id": "irish-monaco",
   "metadata": {},
   "outputs": [
    {
     "name": "stdout",
     "output_type": "stream",
     "text": [
      "\n",
      "=== DATA PROCESSING STATUS ===\n",
      ">> running data processing: True\n",
      ">> data set in processing: srag21\n",
      "\n",
      ">> General Configs:\n",
      "proc datastamp: 2021-09-13 16:35:54\n",
      "proc code-path: C:/Users/jubma/COVID2021/susurv_cls.py\n",
      "proc saving concatenation: None\n",
      "proc saving original srag: None\n",
      "\n",
      ">> Processing Configs:\n",
      "\n",
      "Data set: srag20\n",
      "- event: death\n",
      "- input right-censoring: True\n",
      "- data set datestamp: 2021-08-19\n",
      "- case selection: ['covid_pos', 'hosp', 'full_clin']\n",
      "- feature selection: ['gen_feat', 'dt_feat', 'clin_feat', 'demo_feat']\n",
      "- text-generated clinical features: {'combine': True}\n",
      "- ibge data: False\n",
      "\n",
      "Data set: srag21\n",
      "- event: icu_death\n",
      "- input right-censoring: True\n",
      "- data set datestamp: 2021-08-19\n",
      "- case selection: ['covid_pos']\n",
      "- feature selection: False\n",
      "- text-generated clinical features: False\n",
      "- ibge data: False\n"
     ]
    }
   ],
   "source": [
    "sus.proc_status()"
   ]
  },
  {
   "cell_type": "code",
   "execution_count": 37,
   "id": "twenty-violin",
   "metadata": {
    "scrolled": true
   },
   "outputs": [
    {
     "name": "stdout",
     "output_type": "stream",
     "text": [
      "<class 'pandas.core.frame.DataFrame'>\n",
      "Int64Index: 1003252 entries, 1 to 1385908\n",
      "Columns: 167 entries, id_DB to survival_time\n",
      "dtypes: bool(12), category(78), datetime64[ns](10), float64(7), int64(7), object(53)\n",
      "memory usage: 683.1+ MB\n"
     ]
    }
   ],
   "source": [
    "sus.inproc_data_.info()"
   ]
  },
  {
   "cell_type": "code",
   "execution_count": 38,
   "id": "consecutive-rebecca",
   "metadata": {},
   "outputs": [
    {
     "data": {
      "text/plain": [
       "{'original_srag': 1385909,\n",
       " 'case_selection_covid_pos': 1007111,\n",
       " 'date_process': 1007111,\n",
       " 'survival_data': 1003252}"
      ]
     },
     "execution_count": 38,
     "metadata": {},
     "output_type": "execute_result"
    }
   ],
   "source": [
    "sus.case_selection_tree()"
   ]
  },
  {
   "cell_type": "code",
   "execution_count": 39,
   "id": "desirable-offer",
   "metadata": {},
   "outputs": [
    {
     "data": {
      "text/plain": [
       "'srag21'"
      ]
     },
     "execution_count": 39,
     "metadata": {},
     "output_type": "execute_result"
    }
   ],
   "source": [
    "sus.inproc_"
   ]
  },
  {
   "cell_type": "code",
   "execution_count": 41,
   "id": "contained-photography",
   "metadata": {
    "scrolled": true
   },
   "outputs": [
    {
     "data": {
      "text/plain": [
       "(['DT_NOTIFIC', 'DT_SIN_PRI', 'DT_INTERNA'], ['DT_ENTUTI', 'DT_EVOLUCA'])"
      ]
     },
     "execution_count": 41,
     "metadata": {},
     "output_type": "execute_result"
    }
   ],
   "source": [
    "# (dt_begin_study, dt_event)\n",
    "sus.study_interval_"
   ]
  },
  {
   "cell_type": "code",
   "execution_count": 42,
   "id": "hispanic-visibility",
   "metadata": {
    "scrolled": true
   },
   "outputs": [
    {
     "name": "stdout",
     "output_type": "stream",
     "text": [
      "<class 'pandas.core.frame.DataFrame'>\n",
      "Int64Index: 1003252 entries, 1 to 1385908\n",
      "Data columns (total 28 columns):\n",
      " #   Column      Non-Null Count    Dtype   \n",
      "---  ------      --------------    -----   \n",
      " 0   CS_GESTANT  1003185 non-null  category\n",
      " 1   FEBRE       836895 non-null   category\n",
      " 2   TOSSE       874045 non-null   category\n",
      " 3   GARGANTA    703816 non-null   category\n",
      " 4   DISPNEIA    887961 non-null   category\n",
      " 5   DESC_RESP   813958 non-null   category\n",
      " 6   SATURACAO   857900 non-null   category\n",
      " 7   DIARREIA    692146 non-null   category\n",
      " 8   VOMITO      677073 non-null   category\n",
      " 9   DOR_ABD     666646 non-null   category\n",
      " 10  FADIGA      714815 non-null   category\n",
      " 11  PERD_OLFT   680249 non-null   category\n",
      " 12  PERD_PALA   680033 non-null   category\n",
      " 13  OUTRO_DES   318204 non-null   object  \n",
      " 14  PUERPERA    343824 non-null   category\n",
      " 15  CARDIOPATI  453887 non-null   category\n",
      " 16  HEMATOLOGI  343865 non-null   category\n",
      " 17  SIND_DOWN   343041 non-null   category\n",
      " 18  HEPATICA    342836 non-null   category\n",
      " 19  ASMA        348487 non-null   category\n",
      " 20  DIABETES    422015 non-null   category\n",
      " 21  NEUROLOGIC  349682 non-null   category\n",
      " 22  PNEUMOPATI  349867 non-null   category\n",
      " 23  IMUNODEPRE  346266 non-null   category\n",
      " 24  RENAL       349052 non-null   category\n",
      " 25  OBESIDADE   374405 non-null   category\n",
      " 26  OBES_IMC    15641 non-null    float64 \n",
      " 27  MORB_DESC   237707 non-null   object  \n",
      "dtypes: category(25), float64(1), object(2)\n",
      "memory usage: 54.5+ MB\n"
     ]
    }
   ],
   "source": [
    "sus.inproc_data_[sus.clin_feat_].info()"
   ]
  },
  {
   "cell_type": "code",
   "execution_count": 43,
   "id": "rotary-voluntary",
   "metadata": {
    "scrolled": true
   },
   "outputs": [
    {
     "name": "stdout",
     "output_type": "stream",
     "text": [
      ".. feature selection: demo_feat=True, lab_feat=True, generate_clin_feat=False\n"
     ]
    }
   ],
   "source": [
    "sus.feat_selection()"
   ]
  },
  {
   "cell_type": "code",
   "execution_count": 44,
   "id": "driving-violation",
   "metadata": {
    "scrolled": true
   },
   "outputs": [
    {
     "name": "stdout",
     "output_type": "stream",
     "text": [
      ".. clinical features generation from text processing < OUTRO_DES MORB_DESC > SRAG features.\n"
     ]
    }
   ],
   "source": [
    "sus.generate_clinical_feat()"
   ]
  },
  {
   "cell_type": "code",
   "execution_count": null,
   "id": "catholic-rebate",
   "metadata": {
    "scrolled": true
   },
   "outputs": [],
   "source": [
    "sus.clin_feat_"
   ]
  },
  {
   "cell_type": "code",
   "execution_count": null,
   "id": "altered-angola",
   "metadata": {
    "scrolled": true
   },
   "outputs": [],
   "source": [
    "sus.inproc_data_[sus.clin_feat_].info()"
   ]
  },
  {
   "cell_type": "code",
   "execution_count": null,
   "id": "desperate-macintosh",
   "metadata": {
    "scrolled": true
   },
   "outputs": [],
   "source": [
    "sus.proc_status()"
   ]
  },
  {
   "cell_type": "code",
   "execution_count": null,
   "id": "developmental-length",
   "metadata": {},
   "outputs": [],
   "source": [
    "sus.generate_clinical_feat()"
   ]
  },
  {
   "cell_type": "code",
   "execution_count": null,
   "id": "announced-chocolate",
   "metadata": {},
   "outputs": [],
   "source": [
    "sus.feat_selection(demo_feat=False, lab_feat=False, generate_clin_feat=True)"
   ]
  },
  {
   "cell_type": "code",
   "execution_count": null,
   "id": "better-palmer",
   "metadata": {},
   "outputs": [],
   "source": [
    "sus.proc_status()"
   ]
  },
  {
   "cell_type": "code",
   "execution_count": null,
   "id": "understood-canyon",
   "metadata": {},
   "outputs": [],
   "source": [
    "sus.case_selection_tree()"
   ]
  },
  {
   "cell_type": "code",
   "execution_count": null,
   "id": "centered-winner",
   "metadata": {
    "scrolled": true
   },
   "outputs": [],
   "source": [
    "sus.inproc_data_.info()"
   ]
  },
  {
   "cell_type": "code",
   "execution_count": null,
   "id": "altered-samuel",
   "metadata": {
    "scrolled": true
   },
   "outputs": [],
   "source": [
    "help(sus.case_selection)"
   ]
  },
  {
   "cell_type": "code",
   "execution_count": null,
   "id": "harmful-approach",
   "metadata": {},
   "outputs": [],
   "source": [
    "sus.case_selection(method='hosp')"
   ]
  },
  {
   "cell_type": "code",
   "execution_count": null,
   "id": "adapted-monitor",
   "metadata": {
    "scrolled": true
   },
   "outputs": [],
   "source": [
    "sus.proc_status()"
   ]
  },
  {
   "cell_type": "code",
   "execution_count": null,
   "id": "sharp-stock",
   "metadata": {},
   "outputs": [],
   "source": [
    "sus.case_selection_tree()"
   ]
  },
  {
   "cell_type": "code",
   "execution_count": null,
   "id": "external-chassis",
   "metadata": {},
   "outputs": [],
   "source": [
    "sus.case_selection(method='full_clin')\n",
    "sus.case_selection_tree()"
   ]
  },
  {
   "cell_type": "code",
   "execution_count": null,
   "id": "active-flower",
   "metadata": {},
   "outputs": [],
   "source": [
    "help(sus.add_ibge_feats)"
   ]
  },
  {
   "cell_type": "code",
   "execution_count": null,
   "id": "understanding-brisbane",
   "metadata": {},
   "outputs": [],
   "source": [
    "sus.close_surv_processing()"
   ]
  },
  {
   "cell_type": "code",
   "execution_count": null,
   "id": "excess-orleans",
   "metadata": {},
   "outputs": [],
   "source": [
    "sus.proc_status()"
   ]
  },
  {
   "cell_type": "code",
   "execution_count": null,
   "id": "dried-robinson",
   "metadata": {},
   "outputs": [],
   "source": [
    "sus.inproc_"
   ]
  },
  {
   "cell_type": "code",
   "execution_count": null,
   "id": "adolescent-penalty",
   "metadata": {},
   "outputs": [],
   "source": [
    "sus.open_surv_processing('srag20')"
   ]
  },
  {
   "cell_type": "code",
   "execution_count": null,
   "id": "conditional-retention",
   "metadata": {},
   "outputs": [],
   "source": [
    "sus.inproc_data_"
   ]
  }
 ],
 "metadata": {
  "kernelspec": {
   "display_name": "Python 3",
   "language": "python",
   "name": "python3"
  },
  "language_info": {
   "codemirror_mode": {
    "name": "ipython",
    "version": 3
   },
   "file_extension": ".py",
   "mimetype": "text/x-python",
   "name": "python",
   "nbconvert_exporter": "python",
   "pygments_lexer": "ipython3",
   "version": "3.6.5"
  }
 },
 "nbformat": 4,
 "nbformat_minor": 5
}
